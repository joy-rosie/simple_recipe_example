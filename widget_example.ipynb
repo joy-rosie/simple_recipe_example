{
 "cells": [
  {
   "cell_type": "code",
   "execution_count": 1,
   "metadata": {},
   "outputs": [],
   "source": [
    "import ipywidgets as widgets"
   ]
  },
  {
   "cell_type": "code",
   "execution_count": 2,
   "metadata": {},
   "outputs": [],
   "source": [
    "recipe_ingredients = dict(\n",
    "    recipe_1=dict(ingredient_1=3, ingredient_2=1, ingredient_3=0.5),\n",
    "    recipe_2=dict(ingredient_2=2, ingredient_3=1, ingredient_4=10),\n",
    "    recipe_3=dict(ingredient_1=4, ingredient_5=3, ingredient_6=2),\n",
    "    recipe_4=dict(ingredient_7=1, ingredient_8=3, ingredient_9=11),\n",
    ")"
   ]
  },
  {
   "cell_type": "code",
   "execution_count": 13,
   "metadata": {},
   "outputs": [],
   "source": [
    "def get_total_ingredients(list_of_recipes):\n",
    "    \n",
    "    total_ingredients = dict()\n",
    "    for recipe in list_of_recipes:\n",
    "        for ingredient, amount in recipe_ingredients[recipe].items():\n",
    "            total_ingredients[ingredient] = total_ingredients.get(ingredient, 0) + amount\n",
    "    return dict(sorted(total_ingredients.items()))"
   ]
  },
  {
   "cell_type": "code",
   "execution_count": 14,
   "metadata": {},
   "outputs": [
    {
     "data": {
      "text/plain": [
       "{'ingredient_1': 3, 'ingredient_2': 5, 'ingredient_3': 2.5, 'ingredient_4': 20}"
      ]
     },
     "execution_count": 14,
     "metadata": {},
     "output_type": "execute_result"
    }
   ],
   "source": [
    "get_total_ingredients(['recipe_2', 'recipe_1', 'recipe_2'])"
   ]
  },
  {
   "cell_type": "code",
   "execution_count": 18,
   "metadata": {},
   "outputs": [
    {
     "data": {
      "application/vnd.jupyter.widget-view+json": {
       "model_id": "822e7b241566498483c158fa3e169c92",
       "version_major": 2,
       "version_minor": 0
      },
      "text/plain": [
       "interactive(children=(SelectMultiple(description='Recipes', options=('recipe_1', 'recipe_2', 'recipe_3', 'reci…"
      ]
     },
     "metadata": {},
     "output_type": "display_data"
    }
   ],
   "source": [
    "selector = widgets.SelectMultiple(\n",
    "    options=recipe_ingredients.keys(),\n",
    "    description='Recipes',\n",
    "    disabled=False,\n",
    ")\n",
    "\n",
    "_ = widgets.interact(get_total_ingredients, list_of_recipes=selector)"
   ]
  }
 ],
 "metadata": {
  "kernelspec": {
   "display_name": "Python 3",
   "language": "python",
   "name": "python3"
  },
  "language_info": {
   "codemirror_mode": {
    "name": "ipython",
    "version": 3
   },
   "file_extension": ".py",
   "mimetype": "text/x-python",
   "name": "python",
   "nbconvert_exporter": "python",
   "pygments_lexer": "ipython3",
   "version": "3.7.7"
  }
 },
 "nbformat": 4,
 "nbformat_minor": 4
}
